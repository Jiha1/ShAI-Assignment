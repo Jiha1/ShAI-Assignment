{
  "nbformat": 4,
  "nbformat_minor": 0,
  "metadata": {
    "colab": {
      "provenance": []
    },
    "kernelspec": {
      "name": "python3",
      "display_name": "Python 3"
    },
    "language_info": {
      "name": "python"
    }
  },
  "cells": [
    {
      "cell_type": "markdown",
      "source": [
        "#About Dataset\n",
        "salaries dataset generally provides information about the employees of an organization in relation to their compensation. It typically includes details such as how much each employee is paid (their salary), their job titles, the departments they work in, and possibly additional information like their level of experience, education, and employment history within the organization."
      ],
      "metadata": {
        "id": "9veqgG-LVKd3"
      }
    },
    {
      "cell_type": "markdown",
      "source": [
        "# Features\n",
        "- 'Id'\n",
        "- 'EmployeeName'\n",
        "- 'JobTitle'\n",
        "- 'BasePay'\n",
        "- 'OvertimePay'\n",
        "- 'OtherPay'\n",
        "- 'Benefits'\n",
        "- 'TotalPay' -> salary\n",
        "- 'TotalPayBenefits'\n",
        "- 'Year'\n",
        "- 'Notes'\n",
        "- 'Agency'\n",
        "- 'Status'\n"
      ],
      "metadata": {
        "id": "cZwHdpBfVzOh"
      }
    },
    {
      "cell_type": "markdown",
      "source": [
        "# Tasks\n",
        "\n",
        "1. **Basic Data Exploration**: Identify the number of rows and columns in the dataset, determine the data types of each column, and check for missing values in each column.\n",
        "\n",
        "2. **Descriptive Statistics**: Calculate basic statistics mean, median, mode, minimum, and maximum salary, determine the range of salaries, and find the standard deviation.\n",
        "\n",
        "3. **Data Cleaning**: Handle missing data by suitable method with explain why you use it.\n",
        "\n",
        "4. **Basic Data Visualization**: Create histograms or bar charts to visualize the distribution of salaries, and use pie charts to represent the proportion of employees in different departments.\n",
        "\n",
        "5. **Grouped Analysis**: Group the data by one or more columns and calculate summary statistics for each group, and compare the average salaries across different groups.\n",
        "\n",
        "6. **Simple Correlation Analysis**: Identify any correlation between salary and another numerical column, and plot a scatter plot to visualize the relationship.\n",
        "\n",
        "8. **Summary of Insights**: Write a brief report summarizing the findings and insights from the analyses."
      ],
      "metadata": {
        "id": "X1VJposzVrSF"
      }
    },
    {
      "cell_type": "markdown",
      "source": [
        "# Very Important Note\n",
        "There is no fixed or singular solution for this assignment, so if anything is not clear, please do what you understand and provide an explanation."
      ],
      "metadata": {
        "id": "8_rNdHiGUT6A"
      }
    },
    {
      "cell_type": "code",
      "source": [
        "import pandas as pd\n",
        "import numpy as np\n",
        "\n",
        "# Load your dataset\n",
        "df = pd.read_csv('/content/Salaries.csv')\n",
        "df.head()\n"
      ],
      "metadata": {
        "colab": {
          "base_uri": "https://localhost:8080/",
          "height": 206
        },
        "id": "KmZfk5xkXI2y",
        "outputId": "3b97d6a7-348d-4f6a-f7d2-17cdc1470136"
      },
      "execution_count": 2,
      "outputs": [
        {
          "output_type": "execute_result",
          "data": {
            "text/plain": [
              "   Id       EmployeeName                                        JobTitle  \\\n",
              "0   1     NATHANIEL FORD  GENERAL MANAGER-METROPOLITAN TRANSIT AUTHORITY   \n",
              "1   2       GARY JIMENEZ                 CAPTAIN III (POLICE DEPARTMENT)   \n",
              "2   3     ALBERT PARDINI                 CAPTAIN III (POLICE DEPARTMENT)   \n",
              "3   4  CHRISTOPHER CHONG            WIRE ROPE CABLE MAINTENANCE MECHANIC   \n",
              "4   5    PATRICK GARDNER    DEPUTY CHIEF OF DEPARTMENT,(FIRE DEPARTMENT)   \n",
              "\n",
              "     BasePay  OvertimePay   OtherPay  Benefits   TotalPay  TotalPayBenefits  \\\n",
              "0  167411.18         0.00  400184.25       NaN  567595.43         567595.43   \n",
              "1  155966.02    245131.88  137811.38       NaN  538909.28         538909.28   \n",
              "2  212739.13    106088.18   16452.60       NaN  335279.91         335279.91   \n",
              "3   77916.00     56120.71  198306.90       NaN  332343.61         332343.61   \n",
              "4  134401.60      9737.00  182234.59       NaN  326373.19         326373.19   \n",
              "\n",
              "   Year  Notes         Agency  Status  \n",
              "0  2011    NaN  San Francisco     NaN  \n",
              "1  2011    NaN  San Francisco     NaN  \n",
              "2  2011    NaN  San Francisco     NaN  \n",
              "3  2011    NaN  San Francisco     NaN  \n",
              "4  2011    NaN  San Francisco     NaN  "
            ],
            "text/html": [
              "\n",
              "  <div id=\"df-09280949-16da-46de-9957-280644e0117e\" class=\"colab-df-container\">\n",
              "    <div>\n",
              "<style scoped>\n",
              "    .dataframe tbody tr th:only-of-type {\n",
              "        vertical-align: middle;\n",
              "    }\n",
              "\n",
              "    .dataframe tbody tr th {\n",
              "        vertical-align: top;\n",
              "    }\n",
              "\n",
              "    .dataframe thead th {\n",
              "        text-align: right;\n",
              "    }\n",
              "</style>\n",
              "<table border=\"1\" class=\"dataframe\">\n",
              "  <thead>\n",
              "    <tr style=\"text-align: right;\">\n",
              "      <th></th>\n",
              "      <th>Id</th>\n",
              "      <th>EmployeeName</th>\n",
              "      <th>JobTitle</th>\n",
              "      <th>BasePay</th>\n",
              "      <th>OvertimePay</th>\n",
              "      <th>OtherPay</th>\n",
              "      <th>Benefits</th>\n",
              "      <th>TotalPay</th>\n",
              "      <th>TotalPayBenefits</th>\n",
              "      <th>Year</th>\n",
              "      <th>Notes</th>\n",
              "      <th>Agency</th>\n",
              "      <th>Status</th>\n",
              "    </tr>\n",
              "  </thead>\n",
              "  <tbody>\n",
              "    <tr>\n",
              "      <th>0</th>\n",
              "      <td>1</td>\n",
              "      <td>NATHANIEL FORD</td>\n",
              "      <td>GENERAL MANAGER-METROPOLITAN TRANSIT AUTHORITY</td>\n",
              "      <td>167411.18</td>\n",
              "      <td>0.00</td>\n",
              "      <td>400184.25</td>\n",
              "      <td>NaN</td>\n",
              "      <td>567595.43</td>\n",
              "      <td>567595.43</td>\n",
              "      <td>2011</td>\n",
              "      <td>NaN</td>\n",
              "      <td>San Francisco</td>\n",
              "      <td>NaN</td>\n",
              "    </tr>\n",
              "    <tr>\n",
              "      <th>1</th>\n",
              "      <td>2</td>\n",
              "      <td>GARY JIMENEZ</td>\n",
              "      <td>CAPTAIN III (POLICE DEPARTMENT)</td>\n",
              "      <td>155966.02</td>\n",
              "      <td>245131.88</td>\n",
              "      <td>137811.38</td>\n",
              "      <td>NaN</td>\n",
              "      <td>538909.28</td>\n",
              "      <td>538909.28</td>\n",
              "      <td>2011</td>\n",
              "      <td>NaN</td>\n",
              "      <td>San Francisco</td>\n",
              "      <td>NaN</td>\n",
              "    </tr>\n",
              "    <tr>\n",
              "      <th>2</th>\n",
              "      <td>3</td>\n",
              "      <td>ALBERT PARDINI</td>\n",
              "      <td>CAPTAIN III (POLICE DEPARTMENT)</td>\n",
              "      <td>212739.13</td>\n",
              "      <td>106088.18</td>\n",
              "      <td>16452.60</td>\n",
              "      <td>NaN</td>\n",
              "      <td>335279.91</td>\n",
              "      <td>335279.91</td>\n",
              "      <td>2011</td>\n",
              "      <td>NaN</td>\n",
              "      <td>San Francisco</td>\n",
              "      <td>NaN</td>\n",
              "    </tr>\n",
              "    <tr>\n",
              "      <th>3</th>\n",
              "      <td>4</td>\n",
              "      <td>CHRISTOPHER CHONG</td>\n",
              "      <td>WIRE ROPE CABLE MAINTENANCE MECHANIC</td>\n",
              "      <td>77916.00</td>\n",
              "      <td>56120.71</td>\n",
              "      <td>198306.90</td>\n",
              "      <td>NaN</td>\n",
              "      <td>332343.61</td>\n",
              "      <td>332343.61</td>\n",
              "      <td>2011</td>\n",
              "      <td>NaN</td>\n",
              "      <td>San Francisco</td>\n",
              "      <td>NaN</td>\n",
              "    </tr>\n",
              "    <tr>\n",
              "      <th>4</th>\n",
              "      <td>5</td>\n",
              "      <td>PATRICK GARDNER</td>\n",
              "      <td>DEPUTY CHIEF OF DEPARTMENT,(FIRE DEPARTMENT)</td>\n",
              "      <td>134401.60</td>\n",
              "      <td>9737.00</td>\n",
              "      <td>182234.59</td>\n",
              "      <td>NaN</td>\n",
              "      <td>326373.19</td>\n",
              "      <td>326373.19</td>\n",
              "      <td>2011</td>\n",
              "      <td>NaN</td>\n",
              "      <td>San Francisco</td>\n",
              "      <td>NaN</td>\n",
              "    </tr>\n",
              "  </tbody>\n",
              "</table>\n",
              "</div>\n",
              "    <div class=\"colab-df-buttons\">\n",
              "\n",
              "  <div class=\"colab-df-container\">\n",
              "    <button class=\"colab-df-convert\" onclick=\"convertToInteractive('df-09280949-16da-46de-9957-280644e0117e')\"\n",
              "            title=\"Convert this dataframe to an interactive table.\"\n",
              "            style=\"display:none;\">\n",
              "\n",
              "  <svg xmlns=\"http://www.w3.org/2000/svg\" height=\"24px\" viewBox=\"0 -960 960 960\">\n",
              "    <path d=\"M120-120v-720h720v720H120Zm60-500h600v-160H180v160Zm220 220h160v-160H400v160Zm0 220h160v-160H400v160ZM180-400h160v-160H180v160Zm440 0h160v-160H620v160ZM180-180h160v-160H180v160Zm440 0h160v-160H620v160Z\"/>\n",
              "  </svg>\n",
              "    </button>\n",
              "\n",
              "  <style>\n",
              "    .colab-df-container {\n",
              "      display:flex;\n",
              "      gap: 12px;\n",
              "    }\n",
              "\n",
              "    .colab-df-convert {\n",
              "      background-color: #E8F0FE;\n",
              "      border: none;\n",
              "      border-radius: 50%;\n",
              "      cursor: pointer;\n",
              "      display: none;\n",
              "      fill: #1967D2;\n",
              "      height: 32px;\n",
              "      padding: 0 0 0 0;\n",
              "      width: 32px;\n",
              "    }\n",
              "\n",
              "    .colab-df-convert:hover {\n",
              "      background-color: #E2EBFA;\n",
              "      box-shadow: 0px 1px 2px rgba(60, 64, 67, 0.3), 0px 1px 3px 1px rgba(60, 64, 67, 0.15);\n",
              "      fill: #174EA6;\n",
              "    }\n",
              "\n",
              "    .colab-df-buttons div {\n",
              "      margin-bottom: 4px;\n",
              "    }\n",
              "\n",
              "    [theme=dark] .colab-df-convert {\n",
              "      background-color: #3B4455;\n",
              "      fill: #D2E3FC;\n",
              "    }\n",
              "\n",
              "    [theme=dark] .colab-df-convert:hover {\n",
              "      background-color: #434B5C;\n",
              "      box-shadow: 0px 1px 3px 1px rgba(0, 0, 0, 0.15);\n",
              "      filter: drop-shadow(0px 1px 2px rgba(0, 0, 0, 0.3));\n",
              "      fill: #FFFFFF;\n",
              "    }\n",
              "  </style>\n",
              "\n",
              "    <script>\n",
              "      const buttonEl =\n",
              "        document.querySelector('#df-09280949-16da-46de-9957-280644e0117e button.colab-df-convert');\n",
              "      buttonEl.style.display =\n",
              "        google.colab.kernel.accessAllowed ? 'block' : 'none';\n",
              "\n",
              "      async function convertToInteractive(key) {\n",
              "        const element = document.querySelector('#df-09280949-16da-46de-9957-280644e0117e');\n",
              "        const dataTable =\n",
              "          await google.colab.kernel.invokeFunction('convertToInteractive',\n",
              "                                                    [key], {});\n",
              "        if (!dataTable) return;\n",
              "\n",
              "        const docLinkHtml = 'Like what you see? Visit the ' +\n",
              "          '<a target=\"_blank\" href=https://colab.research.google.com/notebooks/data_table.ipynb>data table notebook</a>'\n",
              "          + ' to learn more about interactive tables.';\n",
              "        element.innerHTML = '';\n",
              "        dataTable['output_type'] = 'display_data';\n",
              "        await google.colab.output.renderOutput(dataTable, element);\n",
              "        const docLink = document.createElement('div');\n",
              "        docLink.innerHTML = docLinkHtml;\n",
              "        element.appendChild(docLink);\n",
              "      }\n",
              "    </script>\n",
              "  </div>\n",
              "\n",
              "\n",
              "<div id=\"df-d716e14e-11fd-4429-bcc4-c7a041ef0099\">\n",
              "  <button class=\"colab-df-quickchart\" onclick=\"quickchart('df-d716e14e-11fd-4429-bcc4-c7a041ef0099')\"\n",
              "            title=\"Suggest charts\"\n",
              "            style=\"display:none;\">\n",
              "\n",
              "<svg xmlns=\"http://www.w3.org/2000/svg\" height=\"24px\"viewBox=\"0 0 24 24\"\n",
              "     width=\"24px\">\n",
              "    <g>\n",
              "        <path d=\"M19 3H5c-1.1 0-2 .9-2 2v14c0 1.1.9 2 2 2h14c1.1 0 2-.9 2-2V5c0-1.1-.9-2-2-2zM9 17H7v-7h2v7zm4 0h-2V7h2v10zm4 0h-2v-4h2v4z\"/>\n",
              "    </g>\n",
              "</svg>\n",
              "  </button>\n",
              "\n",
              "<style>\n",
              "  .colab-df-quickchart {\n",
              "      --bg-color: #E8F0FE;\n",
              "      --fill-color: #1967D2;\n",
              "      --hover-bg-color: #E2EBFA;\n",
              "      --hover-fill-color: #174EA6;\n",
              "      --disabled-fill-color: #AAA;\n",
              "      --disabled-bg-color: #DDD;\n",
              "  }\n",
              "\n",
              "  [theme=dark] .colab-df-quickchart {\n",
              "      --bg-color: #3B4455;\n",
              "      --fill-color: #D2E3FC;\n",
              "      --hover-bg-color: #434B5C;\n",
              "      --hover-fill-color: #FFFFFF;\n",
              "      --disabled-bg-color: #3B4455;\n",
              "      --disabled-fill-color: #666;\n",
              "  }\n",
              "\n",
              "  .colab-df-quickchart {\n",
              "    background-color: var(--bg-color);\n",
              "    border: none;\n",
              "    border-radius: 50%;\n",
              "    cursor: pointer;\n",
              "    display: none;\n",
              "    fill: var(--fill-color);\n",
              "    height: 32px;\n",
              "    padding: 0;\n",
              "    width: 32px;\n",
              "  }\n",
              "\n",
              "  .colab-df-quickchart:hover {\n",
              "    background-color: var(--hover-bg-color);\n",
              "    box-shadow: 0 1px 2px rgba(60, 64, 67, 0.3), 0 1px 3px 1px rgba(60, 64, 67, 0.15);\n",
              "    fill: var(--button-hover-fill-color);\n",
              "  }\n",
              "\n",
              "  .colab-df-quickchart-complete:disabled,\n",
              "  .colab-df-quickchart-complete:disabled:hover {\n",
              "    background-color: var(--disabled-bg-color);\n",
              "    fill: var(--disabled-fill-color);\n",
              "    box-shadow: none;\n",
              "  }\n",
              "\n",
              "  .colab-df-spinner {\n",
              "    border: 2px solid var(--fill-color);\n",
              "    border-color: transparent;\n",
              "    border-bottom-color: var(--fill-color);\n",
              "    animation:\n",
              "      spin 1s steps(1) infinite;\n",
              "  }\n",
              "\n",
              "  @keyframes spin {\n",
              "    0% {\n",
              "      border-color: transparent;\n",
              "      border-bottom-color: var(--fill-color);\n",
              "      border-left-color: var(--fill-color);\n",
              "    }\n",
              "    20% {\n",
              "      border-color: transparent;\n",
              "      border-left-color: var(--fill-color);\n",
              "      border-top-color: var(--fill-color);\n",
              "    }\n",
              "    30% {\n",
              "      border-color: transparent;\n",
              "      border-left-color: var(--fill-color);\n",
              "      border-top-color: var(--fill-color);\n",
              "      border-right-color: var(--fill-color);\n",
              "    }\n",
              "    40% {\n",
              "      border-color: transparent;\n",
              "      border-right-color: var(--fill-color);\n",
              "      border-top-color: var(--fill-color);\n",
              "    }\n",
              "    60% {\n",
              "      border-color: transparent;\n",
              "      border-right-color: var(--fill-color);\n",
              "    }\n",
              "    80% {\n",
              "      border-color: transparent;\n",
              "      border-right-color: var(--fill-color);\n",
              "      border-bottom-color: var(--fill-color);\n",
              "    }\n",
              "    90% {\n",
              "      border-color: transparent;\n",
              "      border-bottom-color: var(--fill-color);\n",
              "    }\n",
              "  }\n",
              "</style>\n",
              "\n",
              "  <script>\n",
              "    async function quickchart(key) {\n",
              "      const quickchartButtonEl =\n",
              "        document.querySelector('#' + key + ' button');\n",
              "      quickchartButtonEl.disabled = true;  // To prevent multiple clicks.\n",
              "      quickchartButtonEl.classList.add('colab-df-spinner');\n",
              "      try {\n",
              "        const charts = await google.colab.kernel.invokeFunction(\n",
              "            'suggestCharts', [key], {});\n",
              "      } catch (error) {\n",
              "        console.error('Error during call to suggestCharts:', error);\n",
              "      }\n",
              "      quickchartButtonEl.classList.remove('colab-df-spinner');\n",
              "      quickchartButtonEl.classList.add('colab-df-quickchart-complete');\n",
              "    }\n",
              "    (() => {\n",
              "      let quickchartButtonEl =\n",
              "        document.querySelector('#df-d716e14e-11fd-4429-bcc4-c7a041ef0099 button');\n",
              "      quickchartButtonEl.style.display =\n",
              "        google.colab.kernel.accessAllowed ? 'block' : 'none';\n",
              "    })();\n",
              "  </script>\n",
              "</div>\n",
              "    </div>\n",
              "  </div>\n"
            ]
          },
          "metadata": {},
          "execution_count": 2
        }
      ]
    },
    {
      "cell_type": "code",
      "source": [
        "df.columns"
      ],
      "metadata": {
        "colab": {
          "base_uri": "https://localhost:8080/"
        },
        "id": "xIT514wlvvBZ",
        "outputId": "fec4dca4-5b19-4812-b28f-2d3f8652ea92"
      },
      "execution_count": 3,
      "outputs": [
        {
          "output_type": "execute_result",
          "data": {
            "text/plain": [
              "Index(['Id', 'EmployeeName', 'JobTitle', 'BasePay', 'OvertimePay', 'OtherPay',\n",
              "       'Benefits', 'TotalPay', 'TotalPayBenefits', 'Year', 'Notes', 'Agency',\n",
              "       'Status'],\n",
              "      dtype='object')"
            ]
          },
          "metadata": {},
          "execution_count": 3
        }
      ]
    },
    {
      "cell_type": "markdown",
      "source": [
        "# Task 1:\n",
        "**Basic Data Exploration:** Identify the number of rows and columns in the dataset, determine the data types of each column, and check for missing values in each column."
      ],
      "metadata": {
        "id": "HSkykDCSKNG_"
      }
    },
    {
      "cell_type": "code",
      "source": [
        "num_rows = df.shape[0]\n",
        "num_columns = df.shape[1]\n",
        "\n",
        "print(\"\\nNumber of rows:\", num_rows)\n",
        "print(\"Number of columns:\", num_columns)"
      ],
      "metadata": {
        "colab": {
          "base_uri": "https://localhost:8080/"
        },
        "id": "koiCPOHsMEAu",
        "outputId": "0fd611f2-dd11-480c-8dbd-d347e61aaaf9"
      },
      "execution_count": 4,
      "outputs": [
        {
          "output_type": "stream",
          "name": "stdout",
          "text": [
            "\n",
            "Number of rows: 148654\n",
            "Number of columns: 13\n"
          ]
        }
      ]
    },
    {
      "cell_type": "code",
      "source": [
        "data_types = df.dtypes\n",
        "\n",
        "print(\"\\nData types of each column:\")\n",
        "print(data_types)\n"
      ],
      "metadata": {
        "colab": {
          "base_uri": "https://localhost:8080/"
        },
        "id": "RnuifY2TMOFQ",
        "outputId": "5ebaf07a-cc68-4e99-d6ce-3ba18bd13e6c"
      },
      "execution_count": 5,
      "outputs": [
        {
          "output_type": "stream",
          "name": "stdout",
          "text": [
            "\n",
            "Data types of each column:\n",
            "Id                    int64\n",
            "EmployeeName         object\n",
            "JobTitle             object\n",
            "BasePay             float64\n",
            "OvertimePay         float64\n",
            "OtherPay            float64\n",
            "Benefits            float64\n",
            "TotalPay            float64\n",
            "TotalPayBenefits    float64\n",
            "Year                  int64\n",
            "Notes               float64\n",
            "Agency               object\n",
            "Status              float64\n",
            "dtype: object\n"
          ]
        }
      ]
    },
    {
      "cell_type": "code",
      "source": [
        "missing_values = df.isnull().sum()\n",
        "\n",
        "print(\"\\nMissing values in each column:\")\n",
        "print(missing_values)"
      ],
      "metadata": {
        "colab": {
          "base_uri": "https://localhost:8080/"
        },
        "id": "ifhL6WXRMSOG",
        "outputId": "bec92ec8-ab6e-4cab-ba01-fd435e603777"
      },
      "execution_count": 6,
      "outputs": [
        {
          "output_type": "stream",
          "name": "stdout",
          "text": [
            "\n",
            "Missing values in each column:\n",
            "Id                       0\n",
            "EmployeeName             0\n",
            "JobTitle                 0\n",
            "BasePay                609\n",
            "OvertimePay              4\n",
            "OtherPay                 4\n",
            "Benefits             36163\n",
            "TotalPay                 0\n",
            "TotalPayBenefits         0\n",
            "Year                     0\n",
            "Notes               148654\n",
            "Agency                   0\n",
            "Status              148654\n",
            "dtype: int64\n"
          ]
        }
      ]
    },
    {
      "cell_type": "markdown",
      "source": [
        "# Task 2:\n",
        "**Descriptive Statistics:** Calculate basic statistics mean, median, mode, minimum, and maximum salary, determine the range of salaries, and find the standard deviation."
      ],
      "metadata": {
        "id": "7hy6edrOKX_o"
      }
    },
    {
      "cell_type": "code",
      "source": [
        "# Basic statistics\n",
        "total_pay_benefits_stats = df['TotalPayBenefits'].describe()\n",
        "mode_total_pay_benefits = df['TotalPayBenefits'].mode()\n",
        "\n",
        "print(\"\\nBasic statistics for TotalPayBenefits:\")\n",
        "print(total_pay_benefits_stats)\n",
        "print(\"\\nMode of TotalPayBenefits:\")\n",
        "print(mode_total_pay_benefits)"
      ],
      "metadata": {
        "colab": {
          "base_uri": "https://localhost:8080/"
        },
        "id": "q-Kgw6-xNXmJ",
        "outputId": "3737e67f-397d-4c31-bf1b-25d378da9a0f"
      },
      "execution_count": 11,
      "outputs": [
        {
          "output_type": "stream",
          "name": "stdout",
          "text": [
            "\n",
            "Basic statistics for TotalPayBenefits:\n",
            "count    148654.000000\n",
            "mean      93692.554811\n",
            "std       62793.533483\n",
            "min        -618.130000\n",
            "25%       44065.650000\n",
            "50%       92404.090000\n",
            "75%      132876.450000\n",
            "max      567595.430000\n",
            "Name: TotalPayBenefits, dtype: float64\n",
            "\n",
            "Mode of TotalPayBenefits:\n",
            "0    7959.18\n",
            "Name: TotalPayBenefits, dtype: float64\n"
          ]
        }
      ]
    },
    {
      "cell_type": "code",
      "source": [
        "# The range\n",
        "range_total_pay_benefits = df['TotalPayBenefits'].max() - df['TotalPayBenefits'].min()\n",
        "\n",
        "print(\"\\nRange of TotalPayBenefits:\")\n",
        "print(range_total_pay_benefits)"
      ],
      "metadata": {
        "colab": {
          "base_uri": "https://localhost:8080/"
        },
        "id": "5JpFJEKEMnxj",
        "outputId": "71edfb21-6d3a-4203-a98e-28102c9ce240"
      },
      "execution_count": 12,
      "outputs": [
        {
          "output_type": "stream",
          "name": "stdout",
          "text": [
            "\n",
            "Range of TotalPayBenefits:\n",
            "568213.56\n"
          ]
        }
      ]
    },
    {
      "cell_type": "code",
      "source": [
        "# Standard deviation\n",
        "std_total_pay_benefits = df['TotalPayBenefits'].std()\n",
        "\n",
        "print(\"\\nStandard deviation of TotalPayBenefits:\")\n",
        "print(std_total_pay_benefits)"
      ],
      "metadata": {
        "colab": {
          "base_uri": "https://localhost:8080/"
        },
        "id": "xR_ufD2sNxRM",
        "outputId": "57a7238e-6f9e-47d7-c038-a7546d22fbbf"
      },
      "execution_count": 13,
      "outputs": [
        {
          "output_type": "stream",
          "name": "stdout",
          "text": [
            "\n",
            "Standard deviation of TotalPayBenefits:\n",
            "62793.533483237705\n"
          ]
        }
      ]
    },
    {
      "cell_type": "markdown",
      "source": [
        "# Task 3:\n",
        "**Data Cleaning:**Handle missing data by suitable method with explain why you use it."
      ],
      "metadata": {
        "id": "DKzwjF9eKYWB"
      }
    },
    {
      "cell_type": "code",
      "source": [
        "#  Replace missing values in 'BasePay' column with the average value --> sence every one must have a BasePay the avg seems logical and also value zero exist so it's not logical to assume that there are supposed to be zeros\n",
        "avg_base_pay = df['BasePay'].mean()\n",
        "df['BasePay'].fillna(avg_base_pay, inplace=True)\n",
        "\n",
        "# Handle missing data in 'OvertimePay', 'OtherPay', and 'Benefits' columns by inserting zeros --> since not every one are having over time or benefits and since the total sum treat the missings as zeros\n",
        "df['OvertimePay'].fillna(0, inplace=True)\n",
        "df['OtherPay'].fillna(0, inplace=True)\n",
        "df['Benefits'].fillna(0, inplace=True)\n",
        "\n",
        "# Convert 'OvertimePay', 'OtherPay', and 'Benefits' columns to float64 type  --> since the entire columns are empty\n",
        "df['OvertimePay'] = df['OvertimePay'].astype('float64')\n",
        "df['OtherPay'] = df['OtherPay'].astype('float64')\n",
        "\n",
        "# Drop columns 'Notes' and 'Status' if they exist\n",
        "columns_to_drop = ['Notes', 'Status']\n",
        "df.drop(columns=columns_to_drop, inplace=True, errors='ignore')"
      ],
      "metadata": {
        "id": "ir5LW4cUN-nJ"
      },
      "execution_count": 14,
      "outputs": []
    },
    {
      "cell_type": "code",
      "source": [
        "print(df)"
      ],
      "metadata": {
        "colab": {
          "base_uri": "https://localhost:8080/"
        },
        "id": "0D-uV3rxRTXC",
        "outputId": "a42e06ae-106d-4199-a0ed-9285943fb843"
      },
      "execution_count": 15,
      "outputs": [
        {
          "output_type": "stream",
          "name": "stdout",
          "text": [
            "            Id       EmployeeName  \\\n",
            "0            1     NATHANIEL FORD   \n",
            "1            2       GARY JIMENEZ   \n",
            "2            3     ALBERT PARDINI   \n",
            "3            4  CHRISTOPHER CHONG   \n",
            "4            5    PATRICK GARDNER   \n",
            "...        ...                ...   \n",
            "148649  148650      Roy I Tillery   \n",
            "148650  148651       Not provided   \n",
            "148651  148652       Not provided   \n",
            "148652  148653       Not provided   \n",
            "148653  148654          Joe Lopez   \n",
            "\n",
            "                                              JobTitle       BasePay  \\\n",
            "0       GENERAL MANAGER-METROPOLITAN TRANSIT AUTHORITY  167411.18000   \n",
            "1                      CAPTAIN III (POLICE DEPARTMENT)  155966.02000   \n",
            "2                      CAPTAIN III (POLICE DEPARTMENT)  212739.13000   \n",
            "3                 WIRE ROPE CABLE MAINTENANCE MECHANIC   77916.00000   \n",
            "4         DEPUTY CHIEF OF DEPARTMENT,(FIRE DEPARTMENT)  134401.60000   \n",
            "...                                                ...           ...   \n",
            "148649                                       Custodian       0.00000   \n",
            "148650                                    Not provided   66325.44884   \n",
            "148651                                    Not provided   66325.44884   \n",
            "148652                                    Not provided   66325.44884   \n",
            "148653                      Counselor, Log Cabin Ranch       0.00000   \n",
            "\n",
            "        OvertimePay   OtherPay  Benefits   TotalPay  TotalPayBenefits  Year  \\\n",
            "0              0.00  400184.25       0.0  567595.43         567595.43  2011   \n",
            "1         245131.88  137811.38       0.0  538909.28         538909.28  2011   \n",
            "2         106088.18   16452.60       0.0  335279.91         335279.91  2011   \n",
            "3          56120.71  198306.90       0.0  332343.61         332343.61  2011   \n",
            "4           9737.00  182234.59       0.0  326373.19         326373.19  2011   \n",
            "...             ...        ...       ...        ...               ...   ...   \n",
            "148649         0.00       0.00       0.0       0.00              0.00  2014   \n",
            "148650         0.00       0.00       0.0       0.00              0.00  2014   \n",
            "148651         0.00       0.00       0.0       0.00              0.00  2014   \n",
            "148652         0.00       0.00       0.0       0.00              0.00  2014   \n",
            "148653         0.00    -618.13       0.0    -618.13           -618.13  2014   \n",
            "\n",
            "               Agency  \n",
            "0       San Francisco  \n",
            "1       San Francisco  \n",
            "2       San Francisco  \n",
            "3       San Francisco  \n",
            "4       San Francisco  \n",
            "...               ...  \n",
            "148649  San Francisco  \n",
            "148650  San Francisco  \n",
            "148651  San Francisco  \n",
            "148652  San Francisco  \n",
            "148653  San Francisco  \n",
            "\n",
            "[148654 rows x 11 columns]\n"
          ]
        }
      ]
    },
    {
      "cell_type": "markdown",
      "source": [
        "# Task 4:\n",
        "**Basic Data Visualization:** Create histograms or bar charts to visualize the distribution of salaries, and use pie charts to represent the proportion of employees in different departments."
      ],
      "metadata": {
        "id": "uC4945uoKYyr"
      }
    },
    {
      "cell_type": "code",
      "source": [
        "import matplotlib.pyplot as plt\n",
        "\n",
        "# Figure and axes for histograms/bar charts\n",
        "fig, axes = plt.subplots(nrows=1, ncols=2, figsize=(12, 6))\n",
        "\n",
        "# Histogram for TotalPayBenefits column\n",
        "axes[0].hist(df['TotalPayBenefits'], bins=20, color='skyblue', edgecolor='black')\n",
        "axes[0].set_title('Salaries')\n",
        "axes[0].set_xlabel('Total Pay + Benefits')\n",
        "axes[0].set_ylabel('Frequency')\n",
        "\n",
        "# Pie chart for Agency column\n",
        "agency_counts = df['Agency'].value_counts()\n",
        "axes[1].pie(agency_counts, labels=agency_counts.index, autopct='%1.1f%%', startangle=140)\n",
        "axes[1].set_title('The proportion of employees in different departments')\n",
        "\n",
        "# Equal aspect ratio ensures that pie is drawn as a circle\n",
        "axes[1].axis('equal')\n",
        "\n",
        "# Display the plots\n",
        "plt.tight_layout()\n",
        "plt.show()\n"
      ],
      "metadata": {
        "colab": {
          "base_uri": "https://localhost:8080/",
          "height": 607
        },
        "id": "T6K8zEWHSvUc",
        "outputId": "6b44b0cc-c298-4997-9f69-bdf6ea658a5e"
      },
      "execution_count": 16,
      "outputs": [
        {
          "output_type": "display_data",
          "data": {
            "text/plain": [
              "<Figure size 1200x600 with 2 Axes>"
            ],
            "image/png": "[encoded data removed]"
          },
          "metadata": {}
        }
      ]
    },
    {
      "cell_type": "markdown",
      "source": [
        "# Task 5:\n",
        "**Grouped Analysis:** Group the data by one or more columns and calculate summary statistics for each group, and compare the average salaries across different groups."
      ],
      "metadata": {
        "id": "vwnn-CPiKZK9"
      }
    },
    {
      "cell_type": "code",
      "source": [
        "# Group the data by \"JobTitle\" column and calculate summary statistics for each group\n",
        "job_title_stats = df.groupby('JobTitle')['TotalPayBenefits'].describe()\n",
        "\n",
        "# Display summary statistics for each group\n",
        "print(job_title_stats)\n",
        "\n",
        "# Compare the average salaries across different groups\n",
        "average_salary_by_job_title = df.groupby('JobTitle')['TotalPayBenefits'].mean()\n",
        "print(\"\\nAverage salaries across different job titles:\")\n",
        "print(average_salary_by_job_title)\n"
      ],
      "metadata": {
        "colab": {
          "base_uri": "https://localhost:8080/"
        },
        "id": "OdTIYhKHTx0c",
        "outputId": "0d646d20-43f6-420a-f7fd-aad3dc2f13d8"
      },
      "execution_count": 17,
      "outputs": [
        {
          "output_type": "stream",
          "name": "stdout",
          "text": [
            "                                                count          mean  \\\n",
            "JobTitle                                                              \n",
            "ACCOUNT CLERK                                    83.0  44035.664337   \n",
            "ACCOUNTANT                                        5.0  47429.268000   \n",
            "ACCOUNTANT INTERN                                48.0  29031.742917   \n",
            "ACPO,JuvP, Juv Prob (SFERS)                       1.0  80266.370000   \n",
            "ACUPUNCTURIST                                     1.0  67594.400000   \n",
            "...                                               ...           ...   \n",
            "X-RAY LABORATORY AIDE                            26.0  52705.880385   \n",
            "X-Ray Laboratory Aide                           100.0  69521.123200   \n",
            "YOUTH COMMISSION ADVISOR, BOARD OF SUPERVISORS    1.0  53632.870000   \n",
            "Youth Comm Advisor                                4.0  60118.550000   \n",
            "ZOO CURATOR                                       1.0  66686.560000   \n",
            "\n",
            "                                                         std       min  \\\n",
            "JobTitle                                                                 \n",
            "ACCOUNT CLERK                                   13170.742908    614.00   \n",
            "ACCOUNTANT                                      27137.331315   1148.40   \n",
            "ACCOUNTANT INTERN                               20711.322649   2981.53   \n",
            "ACPO,JuvP, Juv Prob (SFERS)                              NaN  80266.37   \n",
            "ACUPUNCTURIST                                            NaN  67594.40   \n",
            "...                                                      ...       ...   \n",
            "X-RAY LABORATORY AIDE                           19760.943417   5343.69   \n",
            "X-Ray Laboratory Aide                           35747.544961   1017.07   \n",
            "YOUTH COMMISSION ADVISOR, BOARD OF SUPERVISORS           NaN  53632.87   \n",
            "Youth Comm Advisor                              27510.488387  24957.24   \n",
            "ZOO CURATOR                                              NaN  66686.56   \n",
            "\n",
            "                                                       25%        50%  \\\n",
            "JobTitle                                                                \n",
            "ACCOUNT CLERK                                   42984.0100  49777.820   \n",
            "ACCOUNTANT                                      45304.3800  60076.240   \n",
            "ACCOUNTANT INTERN                                9940.0000  17658.505   \n",
            "ACPO,JuvP, Juv Prob (SFERS)                     80266.3700  80266.370   \n",
            "ACUPUNCTURIST                                   67594.4000  67594.400   \n",
            "...                                                    ...        ...   \n",
            "X-RAY LABORATORY AIDE                           51729.9150  60333.125   \n",
            "X-Ray Laboratory Aide                           28543.0150  85551.190   \n",
            "YOUTH COMMISSION ADVISOR, BOARD OF SUPERVISORS  53632.8700  53632.870   \n",
            "Youth Comm Advisor                              45247.7025  64871.285   \n",
            "ZOO CURATOR                                     66686.5600  66686.560   \n",
            "\n",
            "                                                       75%        max  \n",
            "JobTitle                                                               \n",
            "ACCOUNT CLERK                                   50401.8100   60838.20  \n",
            "ACCOUNTANT                                      65225.3100   65392.01  \n",
            "ACCOUNTANT INTERN                               53789.8000   58799.53  \n",
            "ACPO,JuvP, Juv Prob (SFERS)                     80266.3700   80266.37  \n",
            "ACUPUNCTURIST                                   67594.4000   67594.40  \n",
            "...                                                    ...        ...  \n",
            "X-RAY LABORATORY AIDE                           64305.2850   85077.40  \n",
            "X-Ray Laboratory Aide                           96592.2975  129044.16  \n",
            "YOUTH COMMISSION ADVISOR, BOARD OF SUPERVISORS  53632.8700   53632.87  \n",
            "Youth Comm Advisor                              79742.1325   85774.39  \n",
            "ZOO CURATOR                                     66686.5600   66686.56  \n",
            "\n",
            "[2159 rows x 8 columns]\n",
            "\n",
            "Average salaries across different job titles:\n",
            "JobTitle\n",
            "ACCOUNT CLERK                                     44035.664337\n",
            "ACCOUNTANT                                        47429.268000\n",
            "ACCOUNTANT INTERN                                 29031.742917\n",
            "ACPO,JuvP, Juv Prob (SFERS)                       80266.370000\n",
            "ACUPUNCTURIST                                     67594.400000\n",
            "                                                      ...     \n",
            "X-RAY LABORATORY AIDE                             52705.880385\n",
            "X-Ray Laboratory Aide                             69521.123200\n",
            "YOUTH COMMISSION ADVISOR, BOARD OF SUPERVISORS    53632.870000\n",
            "Youth Comm Advisor                                60118.550000\n",
            "ZOO CURATOR                                       66686.560000\n",
            "Name: TotalPayBenefits, Length: 2159, dtype: float64\n"
          ]
        }
      ]
    },
    {
      "cell_type": "code",
      "source": [
        "# Sort average salaries in ascending order\n",
        "average_salary_by_job_title_sorted = average_salary_by_job_title.sort_values()\n",
        "\n",
        "print(\"\\nAverage salaries across different job titles (sorted):\")\n",
        "print(average_salary_by_job_title_sorted)"
      ],
      "metadata": {
        "colab": {
          "base_uri": "https://localhost:8080/"
        },
        "id": "GvzHBWM3buCK",
        "outputId": "9bdc3c9c-5053-4544-adbf-714a8054f463"
      },
      "execution_count": 23,
      "outputs": [
        {
          "output_type": "stream",
          "name": "stdout",
          "text": [
            "\n",
            "Average salaries across different job titles (sorted):\n",
            "JobTitle\n",
            "Not provided                                           0.000000\n",
            "PUBLIC SAFETY COMMUNICATIONS TECHNICIAN              149.510000\n",
            "BOARD/COMMISSION MEMBER, GROUP II                    296.511628\n",
            "BdComm Mbr, Grp2,M=$25/Mtg                           475.047742\n",
            "BOARD/COMMISSION MEMBER, GROUP III                   638.787879\n",
            "                                                      ...      \n",
            "Gen Mgr, Public Trnsp Dept                        380696.440000\n",
            "GENERAL MANAGER-METROPOLITAN TRANSIT AUTHORITY    399211.275000\n",
            "Chief, Fire Department                            408865.326667\n",
            "Chief of Police                                   411732.266667\n",
            "Chief Investment Officer                          436224.360000\n",
            "Name: TotalPayBenefits, Length: 2159, dtype: float64\n"
          ]
        }
      ]
    },
    {
      "cell_type": "markdown",
      "source": [
        "# Task 6:\n",
        "**Simple Correlation Analysis:** Identify any correlation between salary and another numerical column, and plot a scatter plot to visualize the relationship."
      ],
      "metadata": {
        "id": "VR2WRedmKtQN"
      }
    },
    {
      "cell_type": "code",
      "source": [
        "# Calculate the correlation between 'TotalPayBenefits' and 'Year' columns\n",
        "correlation = df['TotalPayBenefits'].corr(df['Year'])\n",
        "\n",
        "# Print the correlation coefficient\n",
        "print(\"Correlation between TotalPayBenefits and Year:\", correlation)\n",
        "\n",
        "# Plot a scatter plot to visualize the relationship\n",
        "plt.figure(figsize=(8, 6))\n",
        "plt.scatter(df['Year'], df['TotalPayBenefits'], alpha=0.5)\n",
        "plt.title('Scatter Plot: TotalPayBenefits vs Year')\n",
        "plt.xlabel('Year')\n",
        "plt.ylabel('TotalPayBenefits')\n",
        "plt.grid(True)\n",
        "plt.show()\n"
      ],
      "metadata": {
        "colab": {
          "base_uri": "https://localhost:8080/",
          "height": 581
        },
        "id": "9aHrpY9NUbJ-",
        "outputId": "85685c92-e784-498f-deb1-93d855b4dc3c"
      },
      "execution_count": 18,
      "outputs": [
        {
          "output_type": "stream",
          "name": "stdout",
          "text": [
            "Correlation between TotalPayBenefits and Year: 0.15194732496121088\n"
          ]
        },
        {
          "output_type": "display_data",
          "data": {
            "text/plain": [
              "<Figure size 800x600 with 1 Axes>"
            ],
            "image/png": "[encoded data removed]"
          },
          "metadata": {}
        }
      ]
    },
    {
      "cell_type": "markdown",
      "source": [
        "# Task 7:\n",
        "**Summary of Insights:** Write a brief report summarizing the findings and insights from the analyses."
      ],
      "metadata": {
        "id": "4Cd5HtC_K0Js"
      }
    },
    {
      "cell_type": "markdown",
      "source": [
        "**Data Overview:**\n",
        "\n",
        "The dataset comprised several columns including \"JobTitle\", \"TotalPayBenefits\", \"Year\", \"BasePay\", \"OvertimePay\", \"OtherPay\", \"Benefits\", among others.\n",
        "\n",
        "**Descriptive Statistics:**\n",
        "\n",
        "1. The dataset contained a total of 148654 rows and 13 columns.\n",
        "2. Initial exploration revealed missing values in columns such as \"BasePay\", \"OvertimePay\", \"OtherPay\", and \"Benefits\". Missing values in the \"BasePay\" column were replaced by the average value of that column, while missing values in the other columns were replaced with zeros.\n",
        "3. Columns \"Notes\" and \"Status\" were removed from the dataset.\n",
        "\n",
        "**Salary Distribution:**\n",
        "1. The histogram visualization of the \"TotalPayBenefits\" column showed that most of the salaries were around 2 peaks, one around 100,000 $ and thisbelong to anormal skewd distribution and the other was one peak representing the howest salaries.\n",
        "2. The pie chart representation of the \"Agency\" column depicted the proportion of employees in different departments. Department San francisco had the all the proportion of employees, meaning that the campant have one place and that in San Francisco.\n",
        "\n",
        "**Correlation Analysis:**\n",
        "\n",
        "The correlation coefficient between the \"TotalPayBenefits\" and \"Year\" columns was calculated to be 0.15194, indicating a positive correlation. Yey it is a small value as shown in the scatter plot, meaning that the salaries increases indeed over the years but in very slow rate.\n",
        "\n",
        "**Job Title Analysis:**\n",
        "\n",
        "Summary statistics were calculated for each unique job title in the dataset. The average salaries across different job titles varied significantly, with the PUBLIC SAFETY COMMUNICATIONS TECHNICIAN as the lowest avg of about 149.510000 and with the Chief Investment Officer as the largest avg of about 436224.360000 $.\n",
        "\n",
        "**Conclusion:**\n",
        "\n",
        "The analysis provided valuable insights into employee salary data, highlighting key trends, distributions, and correlations within the dataset. Further investigation into specific job titles and departments could provide additional insights for decision-making processes regarding employee compensation and resource allocation."
      ],
      "metadata": {
        "id": "ewvhWvC1XeCq"
      }
    }
  ]
}